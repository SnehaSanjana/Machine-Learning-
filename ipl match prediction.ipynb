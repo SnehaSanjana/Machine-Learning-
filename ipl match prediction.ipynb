{
  "nbformat": 4,
  "nbformat_minor": 0,
  "metadata": {
    "colab": {
      "name": " matches.ipynb",
      "provenance": [],
      "authorship_tag": "ABX9TyMqbwRpw1KnnzaPDZPuyjUZ",
      "include_colab_link": true
    },
    "kernelspec": {
      "name": "python3",
      "display_name": "Python 3"
    },
    "language_info": {
      "name": "python"
    }
  },
  "cells": [
    {
      "cell_type": "markdown",
      "metadata": {
        "id": "view-in-github",
        "colab_type": "text"
      },
      "source": [
        "<a href=\"https://colab.research.google.com/github/SnehaSanjana/Machine-Learning-/blob/main/ipl%20match%20prediction.ipynb\" target=\"_parent\"><img src=\"https://colab.research.google.com/assets/colab-badge.svg\" alt=\"Open In Colab\"/></a>"
      ]
    },
    {
      "cell_type": "code",
      "execution_count": null,
      "metadata": {
        "id": "dT7bmBK82jwS"
      },
      "outputs": [],
      "source": [
        "import numpy as np\n",
        "import pandas as pd\n",
        "import matplotlib.pyplot as plt\n",
        "import seaborn as sns\n",
        "plt.rcParams['figure.figsize']=(14,8)"
      ]
    },
    {
      "cell_type": "code",
      "source": [
        "df=pd.read_csv(\"/content/matches.csv\")\n",
        "df"
      ],
      "metadata": {
        "colab": {
          "base_uri": "https://localhost:8080/",
          "height": 869
        },
        "id": "U3cOMqRQ2-Wk",
        "outputId": "007e48bb-2b43-4c22-a642-a410aea6d68d"
      },
      "execution_count": null,
      "outputs": [
        {
          "output_type": "execute_result",
          "data": {
            "text/plain": [
              "        id  season           city        date                  team1  \\\n",
              "0       60    2008      Bangalore  18-04-2008  Kolkata Knight Riders   \n",
              "1       61    2008     Chandigarh  19-04-2008    Chennai Super Kings   \n",
              "2       62    2008          Delhi  19-04-2008       Rajasthan Royals   \n",
              "3       63    2008         Mumbai  20-04-2008         Mumbai Indians   \n",
              "4       64    2008        Kolkata  20-04-2008        Deccan Chargers   \n",
              "..     ...     ...            ...         ...                    ...   \n",
              "751  11347    2019         Mumbai  05-05-2019  Kolkata Knight Riders   \n",
              "752  11412    2019        Chennai  07-05-2019    Chennai Super Kings   \n",
              "753  11413    2019  Visakhapatnam  08-05-2019    Sunrisers Hyderabad   \n",
              "754  11414    2019  Visakhapatnam  10-05-2019         Delhi Capitals   \n",
              "755  11415    2019      Hyderabad  12-05-2019         Mumbai Indians   \n",
              "\n",
              "                           team2                  toss_winner toss_decision  \\\n",
              "0    Royal Challengers Bangalore  Royal Challengers Bangalore         field   \n",
              "1                Kings XI Punjab          Chennai Super Kings           bat   \n",
              "2               Delhi Daredevils             Rajasthan Royals           bat   \n",
              "3    Royal Challengers Bangalore               Mumbai Indians           bat   \n",
              "4          Kolkata Knight Riders              Deccan Chargers           bat   \n",
              "..                           ...                          ...           ...   \n",
              "751               Mumbai Indians               Mumbai Indians         field   \n",
              "752               Mumbai Indians          Chennai Super Kings           bat   \n",
              "753               Delhi Capitals               Delhi Capitals         field   \n",
              "754          Chennai Super Kings          Chennai Super Kings         field   \n",
              "755          Chennai Super Kings               Mumbai Indians           bat   \n",
              "\n",
              "     result  dl_applied                       winner  win_by_runs  \\\n",
              "0    normal           0        Kolkata Knight Riders          140   \n",
              "1    normal           0          Chennai Super Kings           33   \n",
              "2    normal           0             Delhi Daredevils            0   \n",
              "3    normal           0  Royal Challengers Bangalore            0   \n",
              "4    normal           0        Kolkata Knight Riders            0   \n",
              "..      ...         ...                          ...          ...   \n",
              "751  normal           0               Mumbai Indians            0   \n",
              "752  normal           0               Mumbai Indians            0   \n",
              "753  normal           0               Delhi Capitals            0   \n",
              "754  normal           0          Chennai Super Kings            0   \n",
              "755  normal           0               Mumbai Indians            1   \n",
              "\n",
              "     win_by_wickets player_of_match  \\\n",
              "0                 0     BB McCullum   \n",
              "1                 0      MEK Hussey   \n",
              "2                 9     MF Maharoof   \n",
              "3                 5      MV Boucher   \n",
              "4                 5       DJ Hussey   \n",
              "..              ...             ...   \n",
              "751               9       HH Pandya   \n",
              "752               6        AS Yadav   \n",
              "753               2         RR Pant   \n",
              "754               6    F du Plessis   \n",
              "755               0       JJ Bumrah   \n",
              "\n",
              "                                          venue        umpire1  \\\n",
              "0                         M Chinnaswamy Stadium      Asad Rauf   \n",
              "1    Punjab Cricket Association Stadium, Mohali      MR Benson   \n",
              "2                              Feroz Shah Kotla      Aleem Dar   \n",
              "3                              Wankhede Stadium       SJ Davis   \n",
              "4                                  Eden Gardens      BF Bowden   \n",
              "..                                          ...            ...   \n",
              "751                            Wankhede Stadium  Nanda Kishore   \n",
              "752                   M. A. Chidambaram Stadium    Nigel Llong   \n",
              "753                            ACA-VDCA Stadium            NaN   \n",
              "754                            ACA-VDCA Stadium  Sundaram Ravi   \n",
              "755          Rajiv Gandhi Intl. Cricket Stadium    Nitin Menon   \n",
              "\n",
              "            umpire2                  umpire3  \n",
              "0       RE Koertzen                      NaN  \n",
              "1        SL Shastri                      NaN  \n",
              "2    GA Pratapkumar                      NaN  \n",
              "3         DJ Harper                      NaN  \n",
              "4       K Hariharan                      NaN  \n",
              "..              ...                      ...  \n",
              "751        O Nandan                   S Ravi  \n",
              "752     Nitin Menon                Ian Gould  \n",
              "753             NaN                      NaN  \n",
              "754  Bruce Oxenford  Chettithody Shamshuddin  \n",
              "755       Ian Gould              Nigel Llong  \n",
              "\n",
              "[756 rows x 18 columns]"
            ],
            "text/html": [
              "\n",
              "  <div id=\"df-6f52abca-c219-477c-a9ea-cefa9110d0fc\">\n",
              "    <div class=\"colab-df-container\">\n",
              "      <div>\n",
              "<style scoped>\n",
              "    .dataframe tbody tr th:only-of-type {\n",
              "        vertical-align: middle;\n",
              "    }\n",
              "\n",
              "    .dataframe tbody tr th {\n",
              "        vertical-align: top;\n",
              "    }\n",
              "\n",
              "    .dataframe thead th {\n",
              "        text-align: right;\n",
              "    }\n",
              "</style>\n",
              "<table border=\"1\" class=\"dataframe\">\n",
              "  <thead>\n",
              "    <tr style=\"text-align: right;\">\n",
              "      <th></th>\n",
              "      <th>id</th>\n",
              "      <th>season</th>\n",
              "      <th>city</th>\n",
              "      <th>date</th>\n",
              "      <th>team1</th>\n",
              "      <th>team2</th>\n",
              "      <th>toss_winner</th>\n",
              "      <th>toss_decision</th>\n",
              "      <th>result</th>\n",
              "      <th>dl_applied</th>\n",
              "      <th>winner</th>\n",
              "      <th>win_by_runs</th>\n",
              "      <th>win_by_wickets</th>\n",
              "      <th>player_of_match</th>\n",
              "      <th>venue</th>\n",
              "      <th>umpire1</th>\n",
              "      <th>umpire2</th>\n",
              "      <th>umpire3</th>\n",
              "    </tr>\n",
              "  </thead>\n",
              "  <tbody>\n",
              "    <tr>\n",
              "      <th>0</th>\n",
              "      <td>60</td>\n",
              "      <td>2008</td>\n",
              "      <td>Bangalore</td>\n",
              "      <td>18-04-2008</td>\n",
              "      <td>Kolkata Knight Riders</td>\n",
              "      <td>Royal Challengers Bangalore</td>\n",
              "      <td>Royal Challengers Bangalore</td>\n",
              "      <td>field</td>\n",
              "      <td>normal</td>\n",
              "      <td>0</td>\n",
              "      <td>Kolkata Knight Riders</td>\n",
              "      <td>140</td>\n",
              "      <td>0</td>\n",
              "      <td>BB McCullum</td>\n",
              "      <td>M Chinnaswamy Stadium</td>\n",
              "      <td>Asad Rauf</td>\n",
              "      <td>RE Koertzen</td>\n",
              "      <td>NaN</td>\n",
              "    </tr>\n",
              "    <tr>\n",
              "      <th>1</th>\n",
              "      <td>61</td>\n",
              "      <td>2008</td>\n",
              "      <td>Chandigarh</td>\n",
              "      <td>19-04-2008</td>\n",
              "      <td>Chennai Super Kings</td>\n",
              "      <td>Kings XI Punjab</td>\n",
              "      <td>Chennai Super Kings</td>\n",
              "      <td>bat</td>\n",
              "      <td>normal</td>\n",
              "      <td>0</td>\n",
              "      <td>Chennai Super Kings</td>\n",
              "      <td>33</td>\n",
              "      <td>0</td>\n",
              "      <td>MEK Hussey</td>\n",
              "      <td>Punjab Cricket Association Stadium, Mohali</td>\n",
              "      <td>MR Benson</td>\n",
              "      <td>SL Shastri</td>\n",
              "      <td>NaN</td>\n",
              "    </tr>\n",
              "    <tr>\n",
              "      <th>2</th>\n",
              "      <td>62</td>\n",
              "      <td>2008</td>\n",
              "      <td>Delhi</td>\n",
              "      <td>19-04-2008</td>\n",
              "      <td>Rajasthan Royals</td>\n",
              "      <td>Delhi Daredevils</td>\n",
              "      <td>Rajasthan Royals</td>\n",
              "      <td>bat</td>\n",
              "      <td>normal</td>\n",
              "      <td>0</td>\n",
              "      <td>Delhi Daredevils</td>\n",
              "      <td>0</td>\n",
              "      <td>9</td>\n",
              "      <td>MF Maharoof</td>\n",
              "      <td>Feroz Shah Kotla</td>\n",
              "      <td>Aleem Dar</td>\n",
              "      <td>GA Pratapkumar</td>\n",
              "      <td>NaN</td>\n",
              "    </tr>\n",
              "    <tr>\n",
              "      <th>3</th>\n",
              "      <td>63</td>\n",
              "      <td>2008</td>\n",
              "      <td>Mumbai</td>\n",
              "      <td>20-04-2008</td>\n",
              "      <td>Mumbai Indians</td>\n",
              "      <td>Royal Challengers Bangalore</td>\n",
              "      <td>Mumbai Indians</td>\n",
              "      <td>bat</td>\n",
              "      <td>normal</td>\n",
              "      <td>0</td>\n",
              "      <td>Royal Challengers Bangalore</td>\n",
              "      <td>0</td>\n",
              "      <td>5</td>\n",
              "      <td>MV Boucher</td>\n",
              "      <td>Wankhede Stadium</td>\n",
              "      <td>SJ Davis</td>\n",
              "      <td>DJ Harper</td>\n",
              "      <td>NaN</td>\n",
              "    </tr>\n",
              "    <tr>\n",
              "      <th>4</th>\n",
              "      <td>64</td>\n",
              "      <td>2008</td>\n",
              "      <td>Kolkata</td>\n",
              "      <td>20-04-2008</td>\n",
              "      <td>Deccan Chargers</td>\n",
              "      <td>Kolkata Knight Riders</td>\n",
              "      <td>Deccan Chargers</td>\n",
              "      <td>bat</td>\n",
              "      <td>normal</td>\n",
              "      <td>0</td>\n",
              "      <td>Kolkata Knight Riders</td>\n",
              "      <td>0</td>\n",
              "      <td>5</td>\n",
              "      <td>DJ Hussey</td>\n",
              "      <td>Eden Gardens</td>\n",
              "      <td>BF Bowden</td>\n",
              "      <td>K Hariharan</td>\n",
              "      <td>NaN</td>\n",
              "    </tr>\n",
              "    <tr>\n",
              "      <th>...</th>\n",
              "      <td>...</td>\n",
              "      <td>...</td>\n",
              "      <td>...</td>\n",
              "      <td>...</td>\n",
              "      <td>...</td>\n",
              "      <td>...</td>\n",
              "      <td>...</td>\n",
              "      <td>...</td>\n",
              "      <td>...</td>\n",
              "      <td>...</td>\n",
              "      <td>...</td>\n",
              "      <td>...</td>\n",
              "      <td>...</td>\n",
              "      <td>...</td>\n",
              "      <td>...</td>\n",
              "      <td>...</td>\n",
              "      <td>...</td>\n",
              "      <td>...</td>\n",
              "    </tr>\n",
              "    <tr>\n",
              "      <th>751</th>\n",
              "      <td>11347</td>\n",
              "      <td>2019</td>\n",
              "      <td>Mumbai</td>\n",
              "      <td>05-05-2019</td>\n",
              "      <td>Kolkata Knight Riders</td>\n",
              "      <td>Mumbai Indians</td>\n",
              "      <td>Mumbai Indians</td>\n",
              "      <td>field</td>\n",
              "      <td>normal</td>\n",
              "      <td>0</td>\n",
              "      <td>Mumbai Indians</td>\n",
              "      <td>0</td>\n",
              "      <td>9</td>\n",
              "      <td>HH Pandya</td>\n",
              "      <td>Wankhede Stadium</td>\n",
              "      <td>Nanda Kishore</td>\n",
              "      <td>O Nandan</td>\n",
              "      <td>S Ravi</td>\n",
              "    </tr>\n",
              "    <tr>\n",
              "      <th>752</th>\n",
              "      <td>11412</td>\n",
              "      <td>2019</td>\n",
              "      <td>Chennai</td>\n",
              "      <td>07-05-2019</td>\n",
              "      <td>Chennai Super Kings</td>\n",
              "      <td>Mumbai Indians</td>\n",
              "      <td>Chennai Super Kings</td>\n",
              "      <td>bat</td>\n",
              "      <td>normal</td>\n",
              "      <td>0</td>\n",
              "      <td>Mumbai Indians</td>\n",
              "      <td>0</td>\n",
              "      <td>6</td>\n",
              "      <td>AS Yadav</td>\n",
              "      <td>M. A. Chidambaram Stadium</td>\n",
              "      <td>Nigel Llong</td>\n",
              "      <td>Nitin Menon</td>\n",
              "      <td>Ian Gould</td>\n",
              "    </tr>\n",
              "    <tr>\n",
              "      <th>753</th>\n",
              "      <td>11413</td>\n",
              "      <td>2019</td>\n",
              "      <td>Visakhapatnam</td>\n",
              "      <td>08-05-2019</td>\n",
              "      <td>Sunrisers Hyderabad</td>\n",
              "      <td>Delhi Capitals</td>\n",
              "      <td>Delhi Capitals</td>\n",
              "      <td>field</td>\n",
              "      <td>normal</td>\n",
              "      <td>0</td>\n",
              "      <td>Delhi Capitals</td>\n",
              "      <td>0</td>\n",
              "      <td>2</td>\n",
              "      <td>RR Pant</td>\n",
              "      <td>ACA-VDCA Stadium</td>\n",
              "      <td>NaN</td>\n",
              "      <td>NaN</td>\n",
              "      <td>NaN</td>\n",
              "    </tr>\n",
              "    <tr>\n",
              "      <th>754</th>\n",
              "      <td>11414</td>\n",
              "      <td>2019</td>\n",
              "      <td>Visakhapatnam</td>\n",
              "      <td>10-05-2019</td>\n",
              "      <td>Delhi Capitals</td>\n",
              "      <td>Chennai Super Kings</td>\n",
              "      <td>Chennai Super Kings</td>\n",
              "      <td>field</td>\n",
              "      <td>normal</td>\n",
              "      <td>0</td>\n",
              "      <td>Chennai Super Kings</td>\n",
              "      <td>0</td>\n",
              "      <td>6</td>\n",
              "      <td>F du Plessis</td>\n",
              "      <td>ACA-VDCA Stadium</td>\n",
              "      <td>Sundaram Ravi</td>\n",
              "      <td>Bruce Oxenford</td>\n",
              "      <td>Chettithody Shamshuddin</td>\n",
              "    </tr>\n",
              "    <tr>\n",
              "      <th>755</th>\n",
              "      <td>11415</td>\n",
              "      <td>2019</td>\n",
              "      <td>Hyderabad</td>\n",
              "      <td>12-05-2019</td>\n",
              "      <td>Mumbai Indians</td>\n",
              "      <td>Chennai Super Kings</td>\n",
              "      <td>Mumbai Indians</td>\n",
              "      <td>bat</td>\n",
              "      <td>normal</td>\n",
              "      <td>0</td>\n",
              "      <td>Mumbai Indians</td>\n",
              "      <td>1</td>\n",
              "      <td>0</td>\n",
              "      <td>JJ Bumrah</td>\n",
              "      <td>Rajiv Gandhi Intl. Cricket Stadium</td>\n",
              "      <td>Nitin Menon</td>\n",
              "      <td>Ian Gould</td>\n",
              "      <td>Nigel Llong</td>\n",
              "    </tr>\n",
              "  </tbody>\n",
              "</table>\n",
              "<p>756 rows × 18 columns</p>\n",
              "</div>\n",
              "      <button class=\"colab-df-convert\" onclick=\"convertToInteractive('df-6f52abca-c219-477c-a9ea-cefa9110d0fc')\"\n",
              "              title=\"Convert this dataframe to an interactive table.\"\n",
              "              style=\"display:none;\">\n",
              "        \n",
              "  <svg xmlns=\"http://www.w3.org/2000/svg\" height=\"24px\"viewBox=\"0 0 24 24\"\n",
              "       width=\"24px\">\n",
              "    <path d=\"M0 0h24v24H0V0z\" fill=\"none\"/>\n",
              "    <path d=\"M18.56 5.44l.94 2.06.94-2.06 2.06-.94-2.06-.94-.94-2.06-.94 2.06-2.06.94zm-11 1L8.5 8.5l.94-2.06 2.06-.94-2.06-.94L8.5 2.5l-.94 2.06-2.06.94zm10 10l.94 2.06.94-2.06 2.06-.94-2.06-.94-.94-2.06-.94 2.06-2.06.94z\"/><path d=\"M17.41 7.96l-1.37-1.37c-.4-.4-.92-.59-1.43-.59-.52 0-1.04.2-1.43.59L10.3 9.45l-7.72 7.72c-.78.78-.78 2.05 0 2.83L4 21.41c.39.39.9.59 1.41.59.51 0 1.02-.2 1.41-.59l7.78-7.78 2.81-2.81c.8-.78.8-2.07 0-2.86zM5.41 20L4 18.59l7.72-7.72 1.47 1.35L5.41 20z\"/>\n",
              "  </svg>\n",
              "      </button>\n",
              "      \n",
              "  <style>\n",
              "    .colab-df-container {\n",
              "      display:flex;\n",
              "      flex-wrap:wrap;\n",
              "      gap: 12px;\n",
              "    }\n",
              "\n",
              "    .colab-df-convert {\n",
              "      background-color: #E8F0FE;\n",
              "      border: none;\n",
              "      border-radius: 50%;\n",
              "      cursor: pointer;\n",
              "      display: none;\n",
              "      fill: #1967D2;\n",
              "      height: 32px;\n",
              "      padding: 0 0 0 0;\n",
              "      width: 32px;\n",
              "    }\n",
              "\n",
              "    .colab-df-convert:hover {\n",
              "      background-color: #E2EBFA;\n",
              "      box-shadow: 0px 1px 2px rgba(60, 64, 67, 0.3), 0px 1px 3px 1px rgba(60, 64, 67, 0.15);\n",
              "      fill: #174EA6;\n",
              "    }\n",
              "\n",
              "    [theme=dark] .colab-df-convert {\n",
              "      background-color: #3B4455;\n",
              "      fill: #D2E3FC;\n",
              "    }\n",
              "\n",
              "    [theme=dark] .colab-df-convert:hover {\n",
              "      background-color: #434B5C;\n",
              "      box-shadow: 0px 1px 3px 1px rgba(0, 0, 0, 0.15);\n",
              "      filter: drop-shadow(0px 1px 2px rgba(0, 0, 0, 0.3));\n",
              "      fill: #FFFFFF;\n",
              "    }\n",
              "  </style>\n",
              "\n",
              "      <script>\n",
              "        const buttonEl =\n",
              "          document.querySelector('#df-6f52abca-c219-477c-a9ea-cefa9110d0fc button.colab-df-convert');\n",
              "        buttonEl.style.display =\n",
              "          google.colab.kernel.accessAllowed ? 'block' : 'none';\n",
              "\n",
              "        async function convertToInteractive(key) {\n",
              "          const element = document.querySelector('#df-6f52abca-c219-477c-a9ea-cefa9110d0fc');\n",
              "          const dataTable =\n",
              "            await google.colab.kernel.invokeFunction('convertToInteractive',\n",
              "                                                     [key], {});\n",
              "          if (!dataTable) return;\n",
              "\n",
              "          const docLinkHtml = 'Like what you see? Visit the ' +\n",
              "            '<a target=\"_blank\" href=https://colab.research.google.com/notebooks/data_table.ipynb>data table notebook</a>'\n",
              "            + ' to learn more about interactive tables.';\n",
              "          element.innerHTML = '';\n",
              "          dataTable['output_type'] = 'display_data';\n",
              "          await google.colab.output.renderOutput(dataTable, element);\n",
              "          const docLink = document.createElement('div');\n",
              "          docLink.innerHTML = docLinkHtml;\n",
              "          element.appendChild(docLink);\n",
              "        }\n",
              "      </script>\n",
              "    </div>\n",
              "  </div>\n",
              "  "
            ]
          },
          "metadata": {},
          "execution_count": 7
        }
      ]
    },
    {
      "cell_type": "code",
      "source": [
        "df.head"
      ],
      "metadata": {
        "colab": {
          "base_uri": "https://localhost:8080/"
        },
        "id": "Mn7VxlPn3NLJ",
        "outputId": "4c3af9ab-8884-4982-c601-e9c5b824680c"
      },
      "execution_count": null,
      "outputs": [
        {
          "output_type": "execute_result",
          "data": {
            "text/plain": [
              "<bound method NDFrame.head of         id  season           city        date                  team1  \\\n",
              "0       60    2008      Bangalore  18-04-2008  Kolkata Knight Riders   \n",
              "1       61    2008     Chandigarh  19-04-2008    Chennai Super Kings   \n",
              "2       62    2008          Delhi  19-04-2008       Rajasthan Royals   \n",
              "3       63    2008         Mumbai  20-04-2008         Mumbai Indians   \n",
              "4       64    2008        Kolkata  20-04-2008        Deccan Chargers   \n",
              "..     ...     ...            ...         ...                    ...   \n",
              "751  11347    2019         Mumbai  05-05-2019  Kolkata Knight Riders   \n",
              "752  11412    2019        Chennai  07-05-2019    Chennai Super Kings   \n",
              "753  11413    2019  Visakhapatnam  08-05-2019    Sunrisers Hyderabad   \n",
              "754  11414    2019  Visakhapatnam  10-05-2019         Delhi Capitals   \n",
              "755  11415    2019      Hyderabad  12-05-2019         Mumbai Indians   \n",
              "\n",
              "                           team2                  toss_winner toss_decision  \\\n",
              "0    Royal Challengers Bangalore  Royal Challengers Bangalore         field   \n",
              "1                Kings XI Punjab          Chennai Super Kings           bat   \n",
              "2               Delhi Daredevils             Rajasthan Royals           bat   \n",
              "3    Royal Challengers Bangalore               Mumbai Indians           bat   \n",
              "4          Kolkata Knight Riders              Deccan Chargers           bat   \n",
              "..                           ...                          ...           ...   \n",
              "751               Mumbai Indians               Mumbai Indians         field   \n",
              "752               Mumbai Indians          Chennai Super Kings           bat   \n",
              "753               Delhi Capitals               Delhi Capitals         field   \n",
              "754          Chennai Super Kings          Chennai Super Kings         field   \n",
              "755          Chennai Super Kings               Mumbai Indians           bat   \n",
              "\n",
              "     result  dl_applied                       winner  win_by_runs  \\\n",
              "0    normal           0        Kolkata Knight Riders          140   \n",
              "1    normal           0          Chennai Super Kings           33   \n",
              "2    normal           0             Delhi Daredevils            0   \n",
              "3    normal           0  Royal Challengers Bangalore            0   \n",
              "4    normal           0        Kolkata Knight Riders            0   \n",
              "..      ...         ...                          ...          ...   \n",
              "751  normal           0               Mumbai Indians            0   \n",
              "752  normal           0               Mumbai Indians            0   \n",
              "753  normal           0               Delhi Capitals            0   \n",
              "754  normal           0          Chennai Super Kings            0   \n",
              "755  normal           0               Mumbai Indians            1   \n",
              "\n",
              "     win_by_wickets player_of_match  \\\n",
              "0                 0     BB McCullum   \n",
              "1                 0      MEK Hussey   \n",
              "2                 9     MF Maharoof   \n",
              "3                 5      MV Boucher   \n",
              "4                 5       DJ Hussey   \n",
              "..              ...             ...   \n",
              "751               9       HH Pandya   \n",
              "752               6        AS Yadav   \n",
              "753               2         RR Pant   \n",
              "754               6    F du Plessis   \n",
              "755               0       JJ Bumrah   \n",
              "\n",
              "                                          venue        umpire1  \\\n",
              "0                         M Chinnaswamy Stadium      Asad Rauf   \n",
              "1    Punjab Cricket Association Stadium, Mohali      MR Benson   \n",
              "2                              Feroz Shah Kotla      Aleem Dar   \n",
              "3                              Wankhede Stadium       SJ Davis   \n",
              "4                                  Eden Gardens      BF Bowden   \n",
              "..                                          ...            ...   \n",
              "751                            Wankhede Stadium  Nanda Kishore   \n",
              "752                   M. A. Chidambaram Stadium    Nigel Llong   \n",
              "753                            ACA-VDCA Stadium            NaN   \n",
              "754                            ACA-VDCA Stadium  Sundaram Ravi   \n",
              "755          Rajiv Gandhi Intl. Cricket Stadium    Nitin Menon   \n",
              "\n",
              "            umpire2                  umpire3  \n",
              "0       RE Koertzen                      NaN  \n",
              "1        SL Shastri                      NaN  \n",
              "2    GA Pratapkumar                      NaN  \n",
              "3         DJ Harper                      NaN  \n",
              "4       K Hariharan                      NaN  \n",
              "..              ...                      ...  \n",
              "751        O Nandan                   S Ravi  \n",
              "752     Nitin Menon                Ian Gould  \n",
              "753             NaN                      NaN  \n",
              "754  Bruce Oxenford  Chettithody Shamshuddin  \n",
              "755       Ian Gould              Nigel Llong  \n",
              "\n",
              "[756 rows x 18 columns]>"
            ]
          },
          "metadata": {},
          "execution_count": 16
        }
      ]
    },
    {
      "cell_type": "code",
      "source": [
        "df.shape"
      ],
      "metadata": {
        "colab": {
          "base_uri": "https://localhost:8080/"
        },
        "id": "RMAGOCFp3cZ9",
        "outputId": "2858e49a-e1f1-44b0-e4cb-f8e319743c8a"
      },
      "execution_count": null,
      "outputs": [
        {
          "output_type": "execute_result",
          "data": {
            "text/plain": [
              "(756, 18)"
            ]
          },
          "metadata": {},
          "execution_count": 8
        }
      ]
    },
    {
      "cell_type": "code",
      "source": [
        "df.describe()"
      ],
      "metadata": {
        "id": "s1mIux3R3jn8"
      },
      "execution_count": null,
      "outputs": []
    },
    {
      "cell_type": "code",
      "source": [
        "df.info()"
      ],
      "metadata": {
        "id": "1eITabCl4HbK"
      },
      "execution_count": null,
      "outputs": []
    },
    {
      "cell_type": "code",
      "source": [
        "df['season'].unique()"
      ],
      "metadata": {
        "colab": {
          "base_uri": "https://localhost:8080/"
        },
        "id": "uuGCWN5j4wGB",
        "outputId": "ada267d8-4682-4954-b220-f6d4544ad260"
      },
      "execution_count": null,
      "outputs": [
        {
          "output_type": "execute_result",
          "data": {
            "text/plain": [
              "array([2008, 2009, 2010, 2011, 2012, 2013, 2014, 2015, 2016, 2017, 2018,\n",
              "       2019])"
            ]
          },
          "metadata": {},
          "execution_count": 22
        }
      ]
    },
    {
      "cell_type": "code",
      "source": [
        "max(df['win_by_runs'])#maximum score "
      ],
      "metadata": {
        "colab": {
          "base_uri": "https://localhost:8080/"
        },
        "id": "43fOdSii5LGo",
        "outputId": "eeb5c66e-b57b-48c7-f7d7-b643060e7977"
      },
      "execution_count": null,
      "outputs": [
        {
          "output_type": "execute_result",
          "data": {
            "text/plain": [
              "146"
            ]
          },
          "metadata": {},
          "execution_count": 28
        }
      ]
    },
    {
      "cell_type": "code",
      "source": [
        "df.iloc[df['win_by_runs'].idxmax()]#which match was that where the maximum score was scored"
      ],
      "metadata": {
        "colab": {
          "base_uri": "https://localhost:8080/"
        },
        "id": "55ULsepI5QXC",
        "outputId": "c81ab99f-2532-41b6-ef7a-ecc17f2a7113"
      },
      "execution_count": null,
      "outputs": [
        {
          "output_type": "execute_result",
          "data": {
            "text/plain": [
              "id                               44\n",
              "season                         2017\n",
              "city                          Delhi\n",
              "date                     06-05-2017\n",
              "team1                Mumbai Indians\n",
              "team2              Delhi Daredevils\n",
              "toss_winner        Delhi Daredevils\n",
              "toss_decision                 field\n",
              "result                       normal\n",
              "dl_applied                        0\n",
              "winner               Mumbai Indians\n",
              "win_by_runs                     146\n",
              "win_by_wickets                    0\n",
              "player_of_match         LMP Simmons\n",
              "venue              Feroz Shah Kotla\n",
              "umpire1                 Nitin Menon\n",
              "umpire2                   CK Nandan\n",
              "umpire3                         NaN\n",
              "Name: 620, dtype: object"
            ]
          },
          "metadata": {},
          "execution_count": 27
        }
      ]
    },
    {
      "cell_type": "code",
      "source": [
        "sns.countplot(y='city',data=df)\n",
        "plt.title(\"no of matches held in each city\")\n",
        "plt.xlabel(\"\\n no of matches held\")\n",
        "plt.ylabel(\"Cities\\n\")\n",
        "plt.xlim([0,120])\n",
        "plt.show()"
      ],
      "metadata": {
        "colab": {
          "base_uri": "https://localhost:8080/",
          "height": 524
        },
        "id": "wgwxLiZ55tj-",
        "outputId": "62d8d69e-639b-4eed-ccdc-3565ef258d33"
      },
      "execution_count": null,
      "outputs": [
        {
          "output_type": "display_data",
          "data": {
            "text/plain": [
              "<Figure size 1008x576 with 1 Axes>"
            ],
            "image/png": "[encoded data removed]"
          },
          "metadata": {
            "needs_background": "light"
          }
        }
      ]
    },
    {
      "cell_type": "code",
      "source": [
        "df['winner'].value_counts()"
      ],
      "metadata": {
        "colab": {
          "base_uri": "https://localhost:8080/"
        },
        "id": "ipVdTBE_8mDA",
        "outputId": "afce54a7-4d50-418c-85bd-ce6523a43f36"
      },
      "execution_count": null,
      "outputs": [
        {
          "output_type": "execute_result",
          "data": {
            "text/plain": [
              "Mumbai Indians                 109\n",
              "Chennai Super Kings            100\n",
              "Kolkata Knight Riders           92\n",
              "Royal Challengers Bangalore     84\n",
              "Kings XI Punjab                 82\n",
              "Rajasthan Royals                75\n",
              "Delhi Daredevils                67\n",
              "Sunrisers Hyderabad             58\n",
              "Deccan Chargers                 29\n",
              "Gujarat Lions                   13\n",
              "Pune Warriors                   12\n",
              "Rising Pune Supergiant          10\n",
              "Delhi Capitals                  10\n",
              "Kochi Tuskers Kerala             6\n",
              "Rising Pune Supergiants          5\n",
              "Name: winner, dtype: int64"
            ]
          },
          "metadata": {},
          "execution_count": 48
        }
      ]
    },
    {
      "cell_type": "code",
      "source": [
        ""
      ],
      "metadata": {
        "id": "Tj07RGAn8wWx"
      },
      "execution_count": null,
      "outputs": []
    }
  ]
}